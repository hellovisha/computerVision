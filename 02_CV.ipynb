{
 "cells": [
  {
   "cell_type": "markdown",
   "id": "6384d34c-9943-43cd-b43e-43d89c11e97b",
   "metadata": {},
   "source": [
    "#### `1. Types of Images`\n",
    "#### `2. Convolution operations`\n",
    "#### `3. Edge Detection Techniques`\n",
    "#### `4. Code Example and visualisaing Edge detection`"
   ]
  },
  {
   "cell_type": "markdown",
   "id": "d320c610-de04-4329-8928-200f3313244d",
   "metadata": {},
   "source": [
    "📁 By File Format (Digital Image Types)\n",
    "\n",
    "`JPEG/JPG` – Common for photos; lossy compression.\n",
    "\n",
    "`PNG` – Supports transparency; lossless compression.\n",
    "\n",
    "`GIF` – Supports animation; \n",
    "\n",
    "`TIFF `– High-quality, often used in printing and photography.\n",
    "\n",
    "`HETC,HEIF` -  these are modern image formats used especially on Apple devices\n",
    "\n",
    "\n",
    "\n",
    "\n",
    "\n"
   ]
  },
  {
   "cell_type": "markdown",
   "id": "450ee2e2-1b66-442f-aabe-93d459dac4f6",
   "metadata": {},
   "source": [
    "| Feature       | JPEG         | HEIC/HEIF                                   |\n",
    "| ------------- | ------------ | ------------------------------------------- |\n",
    "| File Size     | Larger       | Smaller                                     |\n",
    "| Image Quality | Lower        | Higher                                      |\n",
    "| Transparency  | ❌ No         | ✅ Yes                                       |\n",
    "| Multi-Image   | ❌ No         | ✅ Yes                                       |\n",
    "| Supported By  | ✅ Everywhere | ❗ Mostly Apple (limited on Windows/Android) |\n"
   ]
  },
  {
   "cell_type": "markdown",
   "id": "678070ff-f5cf-4ee4-a00d-1ea3a7df598b",
   "metadata": {},
   "source": [
    "## Video Formats"
   ]
  },
  {
   "cell_type": "markdown",
   "id": "257ba564-ff5a-47d4-8879-cb10afd4e096",
   "metadata": {},
   "source": [
    "`1 FPS = 1 picture shown every second → looks like a slideshow.`\n",
    "\n",
    "`24 FPS = 24 pictures per second → looks smooth like a movie.`\n",
    "\n",
    "`60 FPS = 60 pictures per second → very smooth, used in games or sports.`"
   ]
  },
  {
   "cell_type": "markdown",
   "id": "841e9475-5983-4ae9-9c0a-1a951234caba",
   "metadata": {},
   "source": [
    "| FPS  | Looks Like                   | Where Used                       |\n",
    "| ---- | ---------------------------- | -------------------------------- |\n",
    "| 15   | Choppy/slow                  | Old webcams or animations        |\n",
    "| 24   | Natural movie feel           | Films and cinema                 |\n",
    "| 30   | Standard smooth              | YouTube, TV                      |\n",
    "| 60   | Extra smooth                 | Gaming, slow motion videos       |\n",
    "| 120+ | Ultra smooth/slow motion use | High-end cameras, sports replays |\n"
   ]
  },
  {
   "cell_type": "markdown",
   "id": "91fc4031-3dc4-406e-84df-9119fe8f0f09",
   "metadata": {},
   "source": [
    "# 🧾 Common Video Formats (File Types)"
   ]
  },
  {
   "cell_type": "markdown",
   "id": "9894ee3e-43b1-46f5-998d-d5c9c60d4ede",
   "metadata": {},
   "source": [
    "| Format   | Extension | Best For                     | Notes                            |\n",
    "| -------- | --------- | ---------------------------- | -------------------------------- |\n",
    "| **MP4**  | `.mp4`    | ✅ Universal, YouTube, phones | Small size, good quality         |\n",
    "| **AVI**  | `.avi`    | ✅ Older videos, Windows      | Big size, less efficient         |\n",
    "| **MKV**  | `.mkv`    | ✅ Movies, subtitles          | Supports multiple audio & subs   |\n",
    "| **MOV**  | `.mov`    | ✅ Apple/macOS                | High quality, bigger size        |\n",
    "| **WMV**  | `.wmv`    | ✅ Windows apps               | Compressed, not common now       |\n",
    "| **FLV**  | `.flv`    | ✅ Old web videos             | Used in Flash, now outdated      |\n",
    "| **WEBM** | `.webm`   | ✅ Web videos                 | Small, open-source, fast loading |\n",
    "| **3GP**  | `.3gp`    | ✅ Mobile phones (old)        | Very small files, low quality    |\n"
   ]
  },
  {
   "cell_type": "markdown",
   "id": "1e42ba56-1c65-4981-976e-13f629f85478",
   "metadata": {},
   "source": [
    "# `2. Convolution : Edge Detection`"
   ]
  },
  {
   "cell_type": "markdown",
   "id": "a571044a-d935-4b3e-a985-4cf136bfad70",
   "metadata": {},
   "source": [
    "##### which part for visual cortex is responeble to detect  edges ?\n",
    "\n",
    "`👉 Primary Visual Cortex (V1)`"
   ]
  },
  {
   "cell_type": "markdown",
   "id": "a4b4d116-deba-4f40-8024-a395cf6e1c4d",
   "metadata": {},
   "source": [
    "### `📸 Example: 6×6 Grayscale Image`\n",
    "\n",
    "`Imagine a 6×6 grayscale image where:`\n",
    "\n",
    " - - Left half is white (pixel value = 255)\n",
    "\n",
    "- - Right half is black (pixel value = 0)\n",
    "\n",
    "\n"
   ]
  },
  {
   "cell_type": "raw",
   "id": "0da13918-251c-4c81-95aa-c4c81627da4d",
   "metadata": {},
   "source": [
    "Image:\n",
    "[\n",
    " [255, 255, 255, 0, 0, 0],\n",
    " [255, 255, 255, 0, 0, 0],\n",
    " [255, 255, 255, 0, 0, 0],\n",
    " [255, 255, 255, 0, 0, 0],\n",
    " [255, 255, 255, 0, 0, 0],\n",
    " [255, 255, 255, 0, 0, 0],\n",
    "]\n"
   ]
  },
  {
   "cell_type": "markdown",
   "id": "04b6cba3-3043-4704-9c5c-ee48b97d8967",
   "metadata": {},
   "source": [
    "## This image has a vertical edge in the middle"
   ]
  },
  {
   "cell_type": "markdown",
   "id": "efad000c-5d49-4b08-a66c-0b16c09b9cb0",
   "metadata": {},
   "source": [
    "`🧠 Apply Edge Detection (Sobel) `\n",
    "Let’s use a simple Sobel X kernel that detects vertical edges"
   ]
  },
  {
   "cell_type": "code",
   "execution_count": null,
   "id": "6cd41fee-bddc-492e-aa2a-e4e8e0342514",
   "metadata": {},
   "outputs": [],
   "source": [
    "Kernel (Sobel X):\n",
    "[[-1,  0,  1],\n",
    " [-2,  0,  2],\n",
    " [-1,  0,  1]]\n"
   ]
  },
  {
   "cell_type": "markdown",
   "id": "e16aff57-818c-4a4d-b1ee-398488757346",
   "metadata": {},
   "source": [
    "#### different names of kernel"
   ]
  },
  {
   "cell_type": "markdown",
   "id": "0c20abb2-9e60-4064-8d08-74f00de0cb38",
   "metadata": {},
   "source": [
    "Kernel\n",
    "\n",
    "Filter\n",
    "\n",
    "Mask\n",
    "\n",
    "Convolution Mask\n",
    "\n",
    "Convolution Matrix\n",
    "\n",
    "Window\n",
    "\n",
    "Feature Detector\n",
    "\n",
    "Template\n",
    "\n",
    "Weight Matrix\n",
    "\n",
    "Receptive Field"
   ]
  },
  {
   "cell_type": "markdown",
   "id": "aa84d31e-69f5-4aaf-a5ba-adab5a9d71de",
   "metadata": {},
   "source": [
    "### This kernel highlights differences in left vs. right pixel brightness."
   ]
  },
  {
   "cell_type": "markdown",
   "id": "a0371f3c-bbac-4d1b-bb9e-a212405cb4cc",
   "metadata": {},
   "source": [
    "# `🔍 What Happens During Convolution?`\n",
    "As the kernel moves over the image, at the boundary between white and black (from 255 to 0), the change is very sharp."
   ]
  },
  {
   "cell_type": "code",
   "execution_count": null,
   "id": "aba9c3cc-045d-46a2-a194-318c08c4b237",
   "metadata": {},
   "outputs": [],
   "source": [
    "###  when the kernel is centered over\n",
    "[255, 255, 0]\n",
    "[255, 255, 0]\n",
    "[255, 255, 0]\n"
   ]
  },
  {
   "cell_type": "code",
   "execution_count": null,
   "id": "023f367f-a9c8-48f5-935f-a7c6700e76c6",
   "metadata": {},
   "outputs": [],
   "source": [
    "#  when the kernel is centered over\n",
    "Edge Score = (-1×255) + (0×255) + (1×0)\n",
    "           + (-2×255) + (0×255) + (2×0)\n",
    "           + (-1×255) + (0×255) + (1×0)\n",
    "\n",
    "           = -255 - 510 - 255 = -1020\n"
   ]
  },
  {
   "cell_type": "markdown",
   "id": "5e72bce9-cb13-4c70-8231-72b0eade1727",
   "metadata": {},
   "source": [
    "## 🧾 Output (Edge Map):"
   ]
  },
  {
   "cell_type": "code",
   "execution_count": null,
   "id": "30e60092-c361-4690-920a-d7fee5840eea",
   "metadata": {},
   "outputs": [],
   "source": [
    "[\n",
    " [0,   0, 1020, -1020,  0,  0],\n",
    " [0,   0, 1020, -1020,  0,  0],\n",
    " [0,   0, 1020, -1020,  0,  0],\n",
    " [0,   0, 1020, -1020,  0,  0],\n",
    " [0,   0, 1020, -1020,  0,  0],\n",
    " [0,   0, 1020, -1020,  0,  0],\n",
    "]\n"
   ]
  },
  {
   "cell_type": "markdown",
   "id": "e34e491a-e8fb-4b6c-8d33-af3666f8e587",
   "metadata": {},
   "source": [
    "# ✅ Conclusion\n",
    "\n",
    "`The convolution kernel slides over the image and calculates the rate of brightness change.`\n",
    "\n",
    "`Where white changes to black, you get strong edge response.`\n",
    "\n",
    "`This is how CNNs and computer vision algorithms \"see\" edges.`\n",
    "\n"
   ]
  },
  {
   "cell_type": "code",
   "execution_count": null,
   "id": "47fece8e-c606-4ed1-bc34-cb104f13d901",
   "metadata": {},
   "outputs": [],
   "source": []
  }
 ],
 "metadata": {
  "kernelspec": {
   "display_name": "Python (Cvenv)",
   "language": "python",
   "name": "cvenv"
  },
  "language_info": {
   "codemirror_mode": {
    "name": "ipython",
    "version": 3
   },
   "file_extension": ".py",
   "mimetype": "text/x-python",
   "name": "python",
   "nbconvert_exporter": "python",
   "pygments_lexer": "ipython3",
   "version": "3.12.8"
  }
 },
 "nbformat": 4,
 "nbformat_minor": 5
}
