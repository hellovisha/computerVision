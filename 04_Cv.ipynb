{
 "cells": [
  {
   "cell_type": "markdown",
   "id": "ba517618-2ed2-45a2-854b-8ae45437d934",
   "metadata": {},
   "source": [
    "# 🧠 What is Pooling?\n",
    "\n",
    "* pooling is a technique used in convolutional neural networks (CNNs) to reduce the spatial size (width and height) of feature maps"
   ]
  },
  {
   "cell_type": "markdown",
   "id": "6c1574fd-a607-4cc0-a940-c38b5ac1de76",
   "metadata": {},
   "source": [
    "<img src = \"https://media.geeksforgeeks.org/wp-content/uploads/20190721030705/Screenshot-2019-07-21-at-3.05.56-AM.png\" />"
   ]
  },
  {
   "cell_type": "markdown",
   "id": "2b7b98c0-84d5-404a-aa49-1fd525ffc2fb",
   "metadata": {},
   "source": [
    "# 🔍 What Does Pooling Do?\n",
    "* Pooling takes a small region (like 2×2 or 3×3) of the image or feature map and summarizes it into a single value."
   ]
  },
  {
   "cell_type": "markdown",
   "id": "ba8fc2ed-9d34-4005-8f99-c9f0a9d14f6a",
   "metadata": {},
   "source": [
    "# 🧠 Common Types of Pooling"
   ]
  },
  {
   "cell_type": "markdown",
   "id": "81f60bd0-1e47-4f64-8223-3b3a8268d153",
   "metadata": {},
   "source": [
    "` 1. Max Pooling `"
   ]
  },
  {
   "cell_type": "code",
   "execution_count": null,
   "id": "269eed19-7f2f-48ae-a342-cfaf624d98fb",
   "metadata": {},
   "outputs": [],
   "source": [
    "2x2 window:\n",
    "[[1, 3],\n",
    " [2, 4]]  → Max = 4\n"
   ]
  },
  {
   "cell_type": "markdown",
   "id": "f6cab6b5-e1ce-49d7-b579-2edc267ce9ad",
   "metadata": {},
   "source": [
    "` 2.Average Pooling `"
   ]
  },
  {
   "cell_type": "code",
   "execution_count": null,
   "id": "41143610-8f08-4949-b150-04c028c430d5",
   "metadata": {},
   "outputs": [],
   "source": [
    "2x2 window:\n",
    "[[1, 3],\n",
    " [2, 4]]  → Max = 4\n"
   ]
  },
  {
   "cell_type": "markdown",
   "id": "572a5051-9848-4d11-8017-d8ef4670967f",
   "metadata": {},
   "source": [
    "# 🧱 Example in a CNN:"
   ]
  },
  {
   "cell_type": "code",
   "execution_count": null,
   "id": "416a00f3-e91b-4c24-abc7-cdf0ea4cf2f7",
   "metadata": {},
   "outputs": [],
   "source": [
    "Feature map (4x4):\n",
    "[[1, 2, 3, 0],\n",
    " [4, 5, 6, 1],\n",
    " [7, 8, 9, 2],\n",
    " [3, 4, 5, 6]]\n"
   ]
  },
  {
   "cell_type": "markdown",
   "id": "0aa0f2ad-046a-4622-8604-4b0df3f05fbc",
   "metadata": {},
   "source": [
    "# If you apply 2x2 max pooling with stride 2:"
   ]
  },
  {
   "cell_type": "code",
   "execution_count": null,
   "id": "86020dc9-45e7-4a2a-b0fe-59ca74896732",
   "metadata": {},
   "outputs": [],
   "source": [
    "Pooled (2x2 output):\n",
    "[[5, 6],\n",
    " [8, 9]]\n"
   ]
  },
  {
   "cell_type": "markdown",
   "id": "e09d242e-7f01-4880-8f97-578c4d72f7a0",
   "metadata": {},
   "source": [
    " ### `✅ Benefits of Pooling`\n",
    "\n",
    "* Dimensionality Reduction: Smaller feature maps, less computation.\n",
    "\n",
    "* Translation Invariance: The exact position of a feature becomes less important.\n",
    "\n",
    "* Faster Training: Due to fewer parameters."
   ]
  },
  {
   "cell_type": "code",
   "execution_count": null,
   "id": "911f0a46-10ac-457f-abdc-787af5987fe0",
   "metadata": {},
   "outputs": [],
   "source": []
  }
 ],
 "metadata": {
  "kernelspec": {
   "display_name": "Python (Cvenv)",
   "language": "python",
   "name": "cvenv"
  },
  "language_info": {
   "codemirror_mode": {
    "name": "ipython",
    "version": 3
   },
   "file_extension": ".py",
   "mimetype": "text/x-python",
   "name": "python",
   "nbconvert_exporter": "python",
   "pygments_lexer": "ipython3",
   "version": "3.12.8"
  }
 },
 "nbformat": 4,
 "nbformat_minor": 5
}
